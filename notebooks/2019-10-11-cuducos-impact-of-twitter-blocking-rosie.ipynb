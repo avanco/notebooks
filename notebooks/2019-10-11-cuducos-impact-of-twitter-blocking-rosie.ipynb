{
 "cells": [
  {
   "cell_type": "markdown",
   "metadata": {},
   "source": [
    "# Measuring the impact of preventing Rosie from tagging congresspeople\n",
    "\n",
    "In February, 2019, [Twitter blocked Rosie claiming she was a spammer](https://medium.com/serenata/a-suspens%C3%A3o-da-rosie-no-twitter-mostra-como-as-regras-para-bots-ainda-precisam-ser-lapidadas-94a0ab8b0003). This notebook tries to understand the impact of such attitude in terms of engagement with Rosie's tweets.\n",
    "\n",
    "> Before starting, note that this script depends on importing to the environment four variables to allow access to Twitter's API:\n",
    ">\n",
    ">  1. `TWITTER_CONSUMER_KEY` \n",
    ">  1. `TWITTER_CONSUMER_SECRET`\n",
    ">  1. `TWITTER_ACCESS_TOKEN_KEY`\n",
    ">  1. `TWITTER_ACCESS_TOKEN_SECRET`"
   ]
  },
  {
   "cell_type": "code",
   "execution_count": 1,
   "metadata": {},
   "outputs": [],
   "source": [
    "import os\n",
    "from datetime import datetime\n",
    "\n",
    "import matplotlib.dates as mdates\n",
    "import matplotlib.pyplot as plt\n",
    "import numpy as np\n",
    "import pandas as pd\n",
    "import pylab\n",
    "import tweepy\n",
    "\n",
    "\n",
    "pylab.rcParams['figure.figsize'] = (14, 8)\n",
    "BLOCK_DATE = datetime(2019, 2, 18)  # approx. as Twitter hasn't disclosured it precisely\n",
    "ROSIE_FIRST_TWEET = 850769069473222656\n",
    "\n",
    "\n",
    "auth = tweepy.OAuthHandler(\n",
    "    os.environ.get(\"TWITTER_CONSUMER_KEY\"),\n",
    "    os.environ.get(\"TWITTER_CONSUMER_SECRET\"),\n",
    ")\n",
    "auth.set_access_token(\n",
    "    os.environ.get(\"TWITTER_ACCESS_TOKEN_KEY\"),\n",
    "    os.environ.get(\"TWITTER_ACCESS_TOKEN_SECRET\"),\n",
    ")\n",
    "api = tweepy.API(auth, wait_on_rate_limit=True)"
   ]
  },
  {
   "cell_type": "markdown",
   "metadata": {},
   "source": [
    "\n",
    "## Gettings all Rosie tweets"
   ]
  },
  {
   "cell_type": "code",
   "execution_count": 2,
   "metadata": {},
   "outputs": [],
   "source": [
    "attrs = (\n",
    "    \"id\",\n",
    "    \"created_at\",\n",
    "    \"favorite_count\",\n",
    "    \"retweet_count\",\n",
    "    \"text\"\n",
    ")\n",
    "\n",
    "def get_tweets(last_tweet=None):\n",
    "    kwargs = {'max_id': last_tweet.id} if last_tweet else {}\n",
    "    tweets = api.user_timeline(\"RosieDaSerenata\", **kwargs)\n",
    "    \n",
    "    tweet = None\n",
    "    for tweet in tweets:\n",
    "        if tweet.retweeted:\n",
    "            continue\n",
    "        yield {attr: getattr(tweet, attr) for attr in attrs}\n",
    "    \n",
    "    if tweet and tweet.id != ROSIE_FIRST_TWEET:\n",
    "        yield from get_tweets(tweet)"
   ]
  },
  {
   "cell_type": "code",
   "execution_count": 3,
   "metadata": {},
   "outputs": [
    {
     "data": {
      "text/plain": [
       "(1007, 5)"
      ]
     },
     "execution_count": 3,
     "metadata": {},
     "output_type": "execute_result"
    }
   ],
   "source": [
    "all_tweets = pd.DataFrame(get_tweets())\n",
    "all_tweets.shape"
   ]
  },
  {
   "cell_type": "code",
   "execution_count": 4,
   "metadata": {},
   "outputs": [
    {
     "data": {
      "text/html": [
       "<div>\n",
       "<style scoped>\n",
       "    .dataframe tbody tr th:only-of-type {\n",
       "        vertical-align: middle;\n",
       "    }\n",
       "\n",
       "    .dataframe tbody tr th {\n",
       "        vertical-align: top;\n",
       "    }\n",
       "\n",
       "    .dataframe thead th {\n",
       "        text-align: right;\n",
       "    }\n",
       "</style>\n",
       "<table border=\"1\" class=\"dataframe\">\n",
       "  <thead>\n",
       "    <tr style=\"text-align: right;\">\n",
       "      <th></th>\n",
       "      <th>id</th>\n",
       "      <th>created_at</th>\n",
       "      <th>favorite_count</th>\n",
       "      <th>retweet_count</th>\n",
       "      <th>text</th>\n",
       "    </tr>\n",
       "  </thead>\n",
       "  <tbody>\n",
       "    <tr>\n",
       "      <td>0</td>\n",
       "      <td>1182642041580347392</td>\n",
       "      <td>2019-10-11 13:00:09</td>\n",
       "      <td>26</td>\n",
       "      <td>16</td>\n",
       "      <td>🚨Gasto suspeito de Dep. ROGÉRIO PENINHA MENDON...</td>\n",
       "    </tr>\n",
       "    <tr>\n",
       "      <td>1</td>\n",
       "      <td>1182340055190376448</td>\n",
       "      <td>2019-10-10 17:00:10</td>\n",
       "      <td>53</td>\n",
       "      <td>16</td>\n",
       "      <td>🚨Gasto suspeito de Dep. MAJOR OLIMPIO (SP). Vo...</td>\n",
       "    </tr>\n",
       "    <tr>\n",
       "      <td>2</td>\n",
       "      <td>1182053161206505472</td>\n",
       "      <td>2019-10-09 22:00:09</td>\n",
       "      <td>35</td>\n",
       "      <td>18</td>\n",
       "      <td>🚨Gasto suspeito de Dep. ALEXANDRE PADILHA (SP)...</td>\n",
       "    </tr>\n",
       "    <tr>\n",
       "      <td>3</td>\n",
       "      <td>1181615280331644930</td>\n",
       "      <td>2019-10-08 17:00:10</td>\n",
       "      <td>36</td>\n",
       "      <td>16</td>\n",
       "      <td>🚨Gasto suspeito de Dep. OLIVAL MARQUES (PA). V...</td>\n",
       "    </tr>\n",
       "    <tr>\n",
       "      <td>4</td>\n",
       "      <td>1181328380257558528</td>\n",
       "      <td>2019-10-07 22:00:08</td>\n",
       "      <td>47</td>\n",
       "      <td>13</td>\n",
       "      <td>🚨Gasto suspeito de Dep. AFONSO HAMM (RS). Você...</td>\n",
       "    </tr>\n",
       "  </tbody>\n",
       "</table>\n",
       "</div>"
      ],
      "text/plain": [
       "                    id          created_at  favorite_count  retweet_count  \\\n",
       "0  1182642041580347392 2019-10-11 13:00:09              26             16   \n",
       "1  1182340055190376448 2019-10-10 17:00:10              53             16   \n",
       "2  1182053161206505472 2019-10-09 22:00:09              35             18   \n",
       "3  1181615280331644930 2019-10-08 17:00:10              36             16   \n",
       "4  1181328380257558528 2019-10-07 22:00:08              47             13   \n",
       "\n",
       "                                                text  \n",
       "0  🚨Gasto suspeito de Dep. ROGÉRIO PENINHA MENDON...  \n",
       "1  🚨Gasto suspeito de Dep. MAJOR OLIMPIO (SP). Vo...  \n",
       "2  🚨Gasto suspeito de Dep. ALEXANDRE PADILHA (SP)...  \n",
       "3  🚨Gasto suspeito de Dep. OLIVAL MARQUES (PA). V...  \n",
       "4  🚨Gasto suspeito de Dep. AFONSO HAMM (RS). Você...  "
      ]
     },
     "execution_count": 4,
     "metadata": {},
     "output_type": "execute_result"
    }
   ],
   "source": [
    "all_tweets.head()"
   ]
  },
  {
   "cell_type": "code",
   "execution_count": 5,
   "metadata": {},
   "outputs": [
    {
     "data": {
      "text/html": [
       "<div>\n",
       "<style scoped>\n",
       "    .dataframe tbody tr th:only-of-type {\n",
       "        vertical-align: middle;\n",
       "    }\n",
       "\n",
       "    .dataframe tbody tr th {\n",
       "        vertical-align: top;\n",
       "    }\n",
       "\n",
       "    .dataframe thead th {\n",
       "        text-align: right;\n",
       "    }\n",
       "</style>\n",
       "<table border=\"1\" class=\"dataframe\">\n",
       "  <thead>\n",
       "    <tr style=\"text-align: right;\">\n",
       "      <th></th>\n",
       "      <th>id</th>\n",
       "      <th>created_at</th>\n",
       "      <th>favorite_count</th>\n",
       "      <th>retweet_count</th>\n",
       "      <th>text</th>\n",
       "    </tr>\n",
       "  </thead>\n",
       "  <tbody>\n",
       "    <tr>\n",
       "      <td>1002</td>\n",
       "      <td>860524662782033920</td>\n",
       "      <td>2017-05-05 16:00:42</td>\n",
       "      <td>18</td>\n",
       "      <td>11</td>\n",
       "      <td>🚨Gasto suspeito de Dep. @aleluiacosta (BA). Vo...</td>\n",
       "    </tr>\n",
       "    <tr>\n",
       "      <td>1003</td>\n",
       "      <td>860162011560370179</td>\n",
       "      <td>2017-05-04 15:59:39</td>\n",
       "      <td>19</td>\n",
       "      <td>9</td>\n",
       "      <td>🚨Gasto suspeito de Dep. @JoseAirtonPT (CE). Vo...</td>\n",
       "    </tr>\n",
       "    <tr>\n",
       "      <td>1004</td>\n",
       "      <td>859483983662518272</td>\n",
       "      <td>2017-05-02 19:05:24</td>\n",
       "      <td>32</td>\n",
       "      <td>11</td>\n",
       "      <td>🚨Gasto suspeito de Dep. @dep_edinhobez. Você p...</td>\n",
       "    </tr>\n",
       "    <tr>\n",
       "      <td>1005</td>\n",
       "      <td>859137918719467521</td>\n",
       "      <td>2017-05-01 20:10:16</td>\n",
       "      <td>40</td>\n",
       "      <td>13</td>\n",
       "      <td>🚨Gasto suspeito de Dep. @betinhogomes. Você po...</td>\n",
       "    </tr>\n",
       "    <tr>\n",
       "      <td>1006</td>\n",
       "      <td>850769069473222656</td>\n",
       "      <td>2017-04-08 17:55:27</td>\n",
       "      <td>93</td>\n",
       "      <td>15</td>\n",
       "      <td>Hello World!</td>\n",
       "    </tr>\n",
       "  </tbody>\n",
       "</table>\n",
       "</div>"
      ],
      "text/plain": [
       "                      id          created_at  favorite_count  retweet_count  \\\n",
       "1002  860524662782033920 2017-05-05 16:00:42              18             11   \n",
       "1003  860162011560370179 2017-05-04 15:59:39              19              9   \n",
       "1004  859483983662518272 2017-05-02 19:05:24              32             11   \n",
       "1005  859137918719467521 2017-05-01 20:10:16              40             13   \n",
       "1006  850769069473222656 2017-04-08 17:55:27              93             15   \n",
       "\n",
       "                                                   text  \n",
       "1002  🚨Gasto suspeito de Dep. @aleluiacosta (BA). Vo...  \n",
       "1003  🚨Gasto suspeito de Dep. @JoseAirtonPT (CE). Vo...  \n",
       "1004  🚨Gasto suspeito de Dep. @dep_edinhobez. Você p...  \n",
       "1005  🚨Gasto suspeito de Dep. @betinhogomes. Você po...  \n",
       "1006                                       Hello World!  "
      ]
     },
     "execution_count": 5,
     "metadata": {},
     "output_type": "execute_result"
    }
   ],
   "source": [
    "all_tweets.tail()"
   ]
  },
  {
   "cell_type": "markdown",
   "metadata": {},
   "source": [
    "## Isolate suspicions tweets and split them in two groups: before and after the block\n",
    "\n",
    "First, let's isolate only the tweets related to suspicions and create a new column to sum _favorite_ and _RT_ counts:"
   ]
  },
  {
   "cell_type": "code",
   "execution_count": 6,
   "metadata": {},
   "outputs": [
    {
     "data": {
      "text/html": [
       "<div>\n",
       "<style scoped>\n",
       "    .dataframe tbody tr th:only-of-type {\n",
       "        vertical-align: middle;\n",
       "    }\n",
       "\n",
       "    .dataframe tbody tr th {\n",
       "        vertical-align: top;\n",
       "    }\n",
       "\n",
       "    .dataframe thead th {\n",
       "        text-align: right;\n",
       "    }\n",
       "</style>\n",
       "<table border=\"1\" class=\"dataframe\">\n",
       "  <thead>\n",
       "    <tr style=\"text-align: right;\">\n",
       "      <th></th>\n",
       "      <th>id</th>\n",
       "      <th>created_at</th>\n",
       "      <th>favorite_count</th>\n",
       "      <th>retweet_count</th>\n",
       "      <th>text</th>\n",
       "      <th>engagement</th>\n",
       "    </tr>\n",
       "  </thead>\n",
       "  <tbody>\n",
       "    <tr>\n",
       "      <td>1001</td>\n",
       "      <td>860587074981965825</td>\n",
       "      <td>2017-05-05 20:08:42</td>\n",
       "      <td>20</td>\n",
       "      <td>7</td>\n",
       "      <td>🚨Gasto suspeito de Dep. @zeca_dirceu (PR). Voc...</td>\n",
       "      <td>27</td>\n",
       "    </tr>\n",
       "    <tr>\n",
       "      <td>1002</td>\n",
       "      <td>860524662782033920</td>\n",
       "      <td>2017-05-05 16:00:42</td>\n",
       "      <td>18</td>\n",
       "      <td>11</td>\n",
       "      <td>🚨Gasto suspeito de Dep. @aleluiacosta (BA). Vo...</td>\n",
       "      <td>29</td>\n",
       "    </tr>\n",
       "    <tr>\n",
       "      <td>1003</td>\n",
       "      <td>860162011560370179</td>\n",
       "      <td>2017-05-04 15:59:39</td>\n",
       "      <td>19</td>\n",
       "      <td>9</td>\n",
       "      <td>🚨Gasto suspeito de Dep. @JoseAirtonPT (CE). Vo...</td>\n",
       "      <td>28</td>\n",
       "    </tr>\n",
       "    <tr>\n",
       "      <td>1004</td>\n",
       "      <td>859483983662518272</td>\n",
       "      <td>2017-05-02 19:05:24</td>\n",
       "      <td>32</td>\n",
       "      <td>11</td>\n",
       "      <td>🚨Gasto suspeito de Dep. @dep_edinhobez. Você p...</td>\n",
       "      <td>43</td>\n",
       "    </tr>\n",
       "    <tr>\n",
       "      <td>1005</td>\n",
       "      <td>859137918719467521</td>\n",
       "      <td>2017-05-01 20:10:16</td>\n",
       "      <td>40</td>\n",
       "      <td>13</td>\n",
       "      <td>🚨Gasto suspeito de Dep. @betinhogomes. Você po...</td>\n",
       "      <td>53</td>\n",
       "    </tr>\n",
       "  </tbody>\n",
       "</table>\n",
       "</div>"
      ],
      "text/plain": [
       "                      id          created_at  favorite_count  retweet_count  \\\n",
       "1001  860587074981965825 2017-05-05 20:08:42              20              7   \n",
       "1002  860524662782033920 2017-05-05 16:00:42              18             11   \n",
       "1003  860162011560370179 2017-05-04 15:59:39              19              9   \n",
       "1004  859483983662518272 2017-05-02 19:05:24              32             11   \n",
       "1005  859137918719467521 2017-05-01 20:10:16              40             13   \n",
       "\n",
       "                                                   text  engagement  \n",
       "1001  🚨Gasto suspeito de Dep. @zeca_dirceu (PR). Voc...          27  \n",
       "1002  🚨Gasto suspeito de Dep. @aleluiacosta (BA). Vo...          29  \n",
       "1003  🚨Gasto suspeito de Dep. @JoseAirtonPT (CE). Vo...          28  \n",
       "1004  🚨Gasto suspeito de Dep. @dep_edinhobez. Você p...          43  \n",
       "1005  🚨Gasto suspeito de Dep. @betinhogomes. Você po...          53  "
      ]
     },
     "execution_count": 6,
     "metadata": {},
     "output_type": "execute_result"
    }
   ],
   "source": [
    "tweets = all_tweets[all_tweets.text.str.startswith(\"🚨Gasto suspeito de\")].copy()\n",
    "tweets[\"engagement\"] = tweets.favorite_count + tweets.retweet_count\n",
    "tweets.tail()"
   ]
  },
  {
   "cell_type": "markdown",
   "metadata": {},
   "source": [
    "And separate the datasets after and before the block:"
   ]
  },
  {
   "cell_type": "code",
   "execution_count": 7,
   "metadata": {},
   "outputs": [
    {
     "data": {
      "text/plain": [
       "((835, 6), (164, 6))"
      ]
     },
     "execution_count": 7,
     "metadata": {},
     "output_type": "execute_result"
    }
   ],
   "source": [
    "before = tweets[tweets.created_at < BLOCK_DATE]\n",
    "after = tweets[tweets.created_at > BLOCK_DATE]\n",
    "before.shape, after.shape"
   ]
  },
  {
   "cell_type": "markdown",
   "metadata": {},
   "source": [
    "## Engagement as favorites and RTs"
   ]
  },
  {
   "cell_type": "code",
   "execution_count": 8,
   "metadata": {},
   "outputs": [
    {
     "name": "stderr",
     "output_type": "stream",
     "text": [
      "/Users/cuducos/.virtualenvs/notebooks/lib/python3.6/site-packages/pandas/plotting/_matplotlib/converter.py:103: FutureWarning: Using an implicitly registered datetime converter for a matplotlib plotting method. The converter was registered by pandas on import. Future versions of pandas will require you to explicitly register matplotlib converters.\n",
      "\n",
      "To register the converters:\n",
      "\t>>> from pandas.plotting import register_matplotlib_converters\n",
      "\t>>> register_matplotlib_converters()\n",
      "  warnings.warn(msg, FutureWarning)\n"
     ]
    },
    {
     "data": {
      "image/png": "[encoded data removed]",
      "text/plain": [
       "<Figure size 432x288 with 1 Axes>"
      ]
     },
     "metadata": {
      "needs_background": "light"
     },
     "output_type": "display_data"
    }
   ],
   "source": [
    "plt.plot_date(tweets[\"created_at\"], tweets[\"engagement\"], markersize=2.5, label=\"Favorite + RT\")\n",
    "plt.plot((BLOCK_DATE, BLOCK_DATE), (0, tweets['engagement'].max()), label=\"Block date\", color=\"red\", linestyle=\"dashed\")\n",
    "\n",
    "plt.xlabel('Date')\n",
    "plt.ylabel('Engagement')\n",
    "\n",
    "plt.title(\"Engagement\")\n",
    "plt.gcf().autofmt_xdate()\n",
    "plt.legend()\n",
    "plt.show()"
   ]
  },
  {
   "cell_type": "code",
   "execution_count": 9,
   "metadata": {},
   "outputs": [
    {
     "data": {
      "image/png": "[encoded data removed]",
      "text/plain": [
       "<Figure size 432x288 with 1 Axes>"
      ]
     },
     "metadata": {
      "needs_background": "light"
     },
     "output_type": "display_data"
    }
   ],
   "source": [
    "plt.plot_date(tweets[\"created_at\"], tweets[\"favorite_count\"], markersize=2.5, label=\"Favorite\")\n",
    "plt.plot_date(tweets[\"created_at\"], tweets[\"retweet_count\"], markersize=2.5, label=\"RT\")\n",
    "plt.plot((BLOCK_DATE, BLOCK_DATE), (0, tweets['engagement'].max()), label=\"Block date\", color=\"red\", linestyle=\"dashed\")\n",
    "\n",
    "plt.xlabel('Date')\n",
    "plt.ylabel('Engagement')\n",
    "\n",
    "plt.title(\"Engagement\")\n",
    "plt.gcf().autofmt_xdate()\n",
    "plt.legend()\n",
    "plt.show()"
   ]
  },
  {
   "cell_type": "markdown",
   "metadata": {},
   "source": [
    "## Isolating from 2018 to get the most recent trends\n",
    "\n",
    "### Linear regression"
   ]
  },
  {
   "cell_type": "code",
   "execution_count": 10,
   "metadata": {},
   "outputs": [
    {
     "data": {
      "image/png": "[encoded data removed]",
      "text/plain": [
       "<Figure size 432x288 with 1 Axes>"
      ]
     },
     "metadata": {
      "needs_background": "light"
     },
     "output_type": "display_data"
    }
   ],
   "source": [
    "recent = tweets[tweets.created_at.dt.year >= 2018]\n",
    "trend_before = before[before.created_at.dt.year >= 2018]\n",
    "\n",
    "plt.plot_date(recent[\"created_at\"], recent[\"engagement\"], markersize=3, label=\"Favorite + RT\")\n",
    "plt.plot((BLOCK_DATE, BLOCK_DATE), (0, recent['engagement'].max()), label=\"Block date\", color=\"red\", linestyle=\"--\")\n",
    "\n",
    "# overall trend\n",
    "x = mdates.date2num(recent[\"created_at\"])\n",
    "fit = np.polyfit(x, recent[\"engagement\"], 1)\n",
    "xx = np.linspace(x.min(), x.max(), 100)\n",
    "dd = mdates.num2date(xx)\n",
    "plt.plot(dd, np.poly1d(fit)(xx), color=\"purple\", linestyle=\":\", label=\"Overall trend\")\n",
    "\n",
    "# before trend\n",
    "x = mdates.date2num(trend_before[\"created_at\"])\n",
    "fit = np.polyfit(x, trend_before[\"engagement\"], 1)\n",
    "xx = np.linspace(x.min(), x.max(), 100)\n",
    "dd = mdates.num2date(xx)\n",
    "plt.plot(dd, np.poly1d(fit)(xx), color=\"purple\", label=\"Before-trend\")\n",
    "\n",
    "# after trend\n",
    "x = mdates.date2num(after[\"created_at\"])\n",
    "fit = np.polyfit(x, after[\"engagement\"], 1)\n",
    "xx = np.linspace(x.min(), x.max(), 100)\n",
    "dd = mdates.num2date(xx)\n",
    "plt.plot(dd, np.poly1d(fit)(xx), color=\"purple\", label=\"After-trend\")\n",
    "\n",
    "plt.xlabel('Date')\n",
    "plt.ylabel('Engagement')\n",
    "\n",
    "plt.title(\"Engagement\")\n",
    "plt.gcf().autofmt_xdate()\n",
    "plt.legend()\n",
    "plt.show()"
   ]
  },
  {
   "cell_type": "markdown",
   "metadata": {},
   "source": [
    "Using a linear regression, numbers suggest that by mid-October **the impact of Twitter's block has been negative** in terms of engagement with Rosie's tweets – as the slope is more skwed down after the block.\n",
    "\n",
    "### Quadratic regression"
   ]
  },
  {
   "cell_type": "code",
   "execution_count": 11,
   "metadata": {},
   "outputs": [
    {
     "data": {
      "image/png": "[encoded data removed]",
      "text/plain": [
       "<Figure size 432x288 with 1 Axes>"
      ]
     },
     "metadata": {
      "needs_background": "light"
     },
     "output_type": "display_data"
    }
   ],
   "source": [
    "recent = tweets[tweets.created_at.dt.year >= 2018]\n",
    "trend_before = before[before.created_at.dt.year >= 2018]\n",
    "\n",
    "plt.plot_date(recent[\"created_at\"], recent[\"engagement\"], markersize=3, label=\"Favorite + RT\")\n",
    "plt.plot((BLOCK_DATE, BLOCK_DATE), (0, recent['engagement'].max()), label=\"Block date\", color=\"red\", linestyle=\"--\")\n",
    "\n",
    "# overall trend\n",
    "x = mdates.date2num(recent[\"created_at\"])\n",
    "fit = np.polyfit(x, recent[\"engagement\"], 2)\n",
    "xx = np.linspace(x.min(), x.max(), 100)\n",
    "dd = mdates.num2date(xx)\n",
    "plt.plot(dd, np.poly1d(fit)(xx), color=\"purple\", linestyle=\":\", label=\"Overall trend\")\n",
    "\n",
    "# before trend\n",
    "x = mdates.date2num(trend_before[\"created_at\"])\n",
    "fit = np.polyfit(x, trend_before[\"engagement\"], 2)\n",
    "xx = np.linspace(x.min(), x.max(), 100)\n",
    "dd = mdates.num2date(xx)\n",
    "plt.plot(dd, np.poly1d(fit)(xx), color=\"purple\", label=\"Before-trend\")\n",
    "\n",
    "# after trend\n",
    "x = mdates.date2num(after[\"created_at\"])\n",
    "fit = np.polyfit(x, after[\"engagement\"], 2)\n",
    "xx = np.linspace(x.min(), x.max(), 100)\n",
    "dd = mdates.num2date(xx)\n",
    "plt.plot(dd, np.poly1d(fit)(xx), color=\"purple\", label=\"After-trend\")\n",
    "\n",
    "plt.xlabel('Date')\n",
    "plt.ylabel('Engagement')\n",
    "\n",
    "plt.title(\"Engagement\")\n",
    "plt.gcf().autofmt_xdate()\n",
    "plt.legend()\n",
    "plt.show()"
   ]
  },
  {
   "cell_type": "markdown",
   "metadata": {},
   "source": [
    "Using a quadratic regression, numbers suggest that by mid-October **the impact of Twitter's block has been positive** in terms of engagement with Rosie's tweets – as the parabole opens upward instead of downward."
   ]
  }
 ],
 "metadata": {
  "kernelspec": {
   "display_name": "Python 3",
   "language": "python",
   "name": "python3"
  },
  "language_info": {
   "codemirror_mode": {
    "name": "ipython",
    "version": 3
   },
   "file_extension": ".py",
   "mimetype": "text/x-python",
   "name": "python",
   "nbconvert_exporter": "python",
   "pygments_lexer": "ipython3",
   "version": "3.6.3"
  }
 },
 "nbformat": 4,
 "nbformat_minor": 2
}
