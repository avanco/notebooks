{
 "cells": [
  {
   "cell_type": "markdown",
   "source": [
    "## Vocabulary expansion using word embeddings model\n",
    "\n",
    "It is related to a task of identifying alcoholic items in notes,\n",
    "just a first step in direction to better perform this task.\n",
    "\n",
    "There is a previous list of names (types and brands) here: https://docs.google.com/document/d/1yigf9iJ6FDEj_nGUThH48r2IwAww9pQQdlwhAf7Hg1U/edit\n",
    "\n",
    "In the next cells we search for more words which are similar with these seeds.\n",
    "\n",
    "The result of this method needs a human validation."
   ],
   "metadata": {
    "collapsed": false,
    "pycharm": {
     "name": "#%% md\n"
    }
   }
  },
  {
   "cell_type": "code",
   "execution_count": 1,
   "metadata": {},
   "outputs": [],
   "source": [
    "import requests as req\n",
    "from bs4 import BeautifulSoup\n",
    "import json\n"
   ]
  },
  {
   "cell_type": "markdown",
   "source": [
    "Using sets of words from this gdocs"
   ],
   "metadata": {
    "collapsed": false,
    "pycharm": {
     "name": "#%% md\n"
    }
   }
  },
  {
   "cell_type": "code",
   "execution_count": 2,
   "metadata": {
    "pycharm": {
     "name": "#%%\n"
    }
   },
   "outputs": [],
   "source": [
    "resp_body = req.get('https://docs.google.com/document/d/1yigf9iJ6FDEj_nGUThH48r2IwAww9pQQdlwhAf7Hg1U/edit')"
   ]
  },
  {
   "cell_type": "code",
   "execution_count": 3,
   "outputs": [],
   "source": [
    "soup = BeautifulSoup(resp_body.text, 'html.parser')\n",
    "title = soup.title.string\n",
    "l = [i for i in soup.find_all(type='text/javascript') if i.string.find('DOCS_modelChunk =') != -1]\n",
    "\n",
    "content = l[0].contents[0].string\n",
    "content = content.replace('DOCS_modelChunk = ', '')\n",
    "content = content[:content.find(']') + 1]\n",
    "content_dict = json.loads(content)"
   ],
   "metadata": {
    "collapsed": false,
    "pycharm": {
     "name": "#%%\n"
    }
   }
  },
  {
   "cell_type": "code",
   "execution_count": 4,
   "outputs": [],
   "source": [
    "text = content_dict[0]['s']\n",
    "doc_lists = list(filter(lambda l: len(l) > 0, text.split('\\n')))\n",
    "doc_lists = [l.replace('\\t', '') for l in doc_lists]"
   ],
   "metadata": {
    "collapsed": false,
    "pycharm": {
     "name": "#%%\n"
    }
   }
  },
  {
   "cell_type": "markdown",
   "source": [
    "Here we are considering that:\n",
    "- lowercase words are drink categories\n",
    "- otherwise, if uppercase in first letter, then it is a brand"
   ],
   "metadata": {
    "collapsed": false,
    "pycharm": {
     "name": "#%% md\n"
    }
   }
  },
  {
   "cell_type": "code",
   "execution_count": 5,
   "outputs": [],
   "source": [
    "brands = set()\n",
    "drinks = set()\n",
    "for line in doc_lists:\n",
    "    entities = [e.strip() for e in line.split('=')[1].split(',')]\n",
    "    for e in list(filter(str.islower, entities)):\n",
    "        drinks.add(e)\n",
    "    for e in list(filter(lambda e: e[0].isupper(), entities)):\n",
    "        brands.add(e)"
   ],
   "metadata": {
    "collapsed": false,
    "pycharm": {
     "name": "#%%\n"
    }
   }
  },
  {
   "cell_type": "markdown",
   "source": [
    "We can expand this vocabulary by finding nearest neighbor words using a word embeddings model (portuguese corpus)"
   ],
   "metadata": {
    "collapsed": false,
    "pycharm": {
     "name": "#%% md\n"
    }
   }
  },
  {
   "cell_type": "code",
   "execution_count": 6,
   "outputs": [],
   "source": [
    "import os.path\n",
    "from gensim.models import KeyedVectors\n",
    "\n",
    "if not os.path.isfile('/tmp/skip_s50.txt'):\n",
    "    !wget --no-check-certificate \\\n",
    "        'http://143.107.183.175:22980/download.php?file=embeddings/fasttext/skip_s50.zip' \\\n",
    "        -O /tmp/fasttext_skip_s50.zip\n",
    "\n",
    "!unzip -qq -n /tmp/fasttext_skip_s50.zip -d /tmp\n",
    "\n",
    "model = KeyedVectors.load_word2vec_format('/tmp/skip_s50.txt')"
   ],
   "metadata": {
    "collapsed": false,
    "pycharm": {
     "name": "#%%\n"
    }
   }
  },
  {
   "cell_type": "code",
   "execution_count": 31,
   "outputs": [
    {
     "data": {
      "text/plain": "{'rum': ['sidra',\n  'shawarma',\n  'falafel',\n  'arroz',\n  'assade',\n  'tahine',\n  'piri-piri',\n  'queijo',\n  'edamame'],\n 'whiskey': ['whiskeys',\n  'whisk',\n  'whiskeytown',\n  'gravy',\n  'pork',\n  'whisker',\n  'flakes',\n  'chilly',\n  'uísque'],\n 'conhaque': ['licor',\n  'uísque',\n  'conhaques',\n  'queijo-quente',\n  'vermute',\n  'queijo',\n  'sorvete',\n  'champanhe',\n  'limonada'],\n 'liqueur': ['liqueurs',\n  'graineterie',\n  'liquits',\n  'doucement',\n  'brillait',\n  'grain',\n  'furent',\n  'farine',\n  'mauve',\n  'buvons'],\n 'chopp': ['caipirinha',\n  'churrascão',\n  'chope.',\n  'hamburgueria',\n  'caipirinhas',\n  'cachorro-quente',\n  'hamburguerias',\n  'nescafé'],\n 'gim': ['argello',\n  'ptb-df',\n  'tuma',\n  'pl-al',\n  'acarajé',\n  'lula',\n  'marba',\n  'pimentã£o',\n  'salame',\n  'petisto'],\n 'cachaça': ['pamonha',\n  'caipirinha',\n  'chopeira',\n  'cachaçaria',\n  'goiabada',\n  'cachaças',\n  'achocolatada',\n  'côco',\n  'tapioca',\n  'açaí'],\n 'chope': ['chope.',\n  'caipirinha',\n  'churrascão',\n  'caipirinhas',\n  'sorvete',\n  'refrigerante',\n  'minipizzas',\n  'fondue'],\n 'champagne': ['champagney',\n  'champagnes',\n  'champagné',\n  'champanhe',\n  'salade',\n  'chocolat',\n  'bavaroise',\n  'chantilly',\n  'campagne',\n  'courgette'],\n 'cerveja': ['bebida',\n  'cervejas',\n  'uísque',\n  'sorvete',\n  'garrafa',\n  'vodca',\n  'limonada',\n  'refrigerante'],\n 'gin': ['mousse',\n  'picless',\n  'scotch',\n  'whiskys',\n  'dumplings',\n  'whiskas',\n  'hot-dog',\n  'áicool'],\n 'whisky': ['uísque', 'whiskys', 'whisk', 'whiskeys', 'drink', 'whiskies'],\n 'vodka': ['vodca',\n  'vodkas',\n  'uísque',\n  'limonada',\n  'bebida',\n  'chocolate',\n  'ketchup'],\n 'brandy': ['licorice',\n  'butterscotch',\n  'cranberry',\n  'caramel',\n  'limonada',\n  'uísque',\n  'toddy',\n  'brownie'],\n 'beer': ['burger',\n  'fried',\n  'brewing',\n  \"schwab's\",\n  'rollen',\n  'redbrick',\n  'seiling',\n  'trink',\n  'redley',\n  'munder'],\n 'vinho': ['espumante',\n  'licor',\n  'aguardente',\n  'presunto',\n  'queijo',\n  'tinto',\n  'licores',\n  'uva',\n  'vinhaça'],\n 'tequila': ['tequilla',\n  'tequilana',\n  'tequiia',\n  'mojito',\n  'tequilas',\n  'daiquiri',\n  'limonada',\n  'coca',\n  'soda',\n  'guacamole'],\n 'saquê': ['sashimi',\n  'sukiyaki',\n  'teriyaki',\n  'yogurte',\n  'tofu',\n  'yakitori',\n  'masu',\n  'taiyaki',\n  'konnyaku',\n  'miyaki'],\n 'pint': ['tint',\n  'chocolate',\n  'steak',\n  'refood',\n  'waitrose',\n  'maize',\n  'pancake',\n  'macaroon',\n  'seefood',\n  'catchup'],\n 'wine': ['cooking',\n  'bread',\n  'delicious',\n  'beans',\n  'toast',\n  'shop',\n  'blend',\n  'meal',\n  'apples',\n  'cookings'],\n 'cachaca': []}"
     },
     "execution_count": 31,
     "metadata": {},
     "output_type": "execute_result"
    }
   ],
   "source": [
    "# TODO: add to google-doc this drink type: \"saquê\"\n",
    "drinks.add('saquê')\n",
    "\n",
    "drinks_exp = {}\n",
    "for d in drinks:\n",
    "    drinks_exp[d] = []\n",
    "    if d in model:\n",
    "        drinks_exp[d] += [w[0] for w in model.most_similar(d) if not w[0] in drinks]\n",
    "\n",
    "drinks_exp"
   ],
   "metadata": {
    "collapsed": false,
    "pycharm": {
     "name": "#%%\n"
    }
   }
  }
 ],
 "metadata": {
  "kernelspec": {
   "display_name": "Python 3",
   "language": "python",
   "name": "python3"
  },
  "language_info": {
   "codemirror_mode": {
    "name": "ipython",
    "version": 3
   },
   "file_extension": ".py",
   "mimetype": "text/x-python",
   "name": "python",
   "nbconvert_exporter": "python",
   "pygments_lexer": "ipython3",
   "version": "3.7.4"
  }
 },
 "nbformat": 4,
 "nbformat_minor": 1
}